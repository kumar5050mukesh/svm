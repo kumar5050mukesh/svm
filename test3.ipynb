{
 "cells": [
  {
   "cell_type": "code",
   "execution_count": 33,
   "metadata": {},
   "outputs": [],
   "source": [
    "# Q1. In order to predict house price based on several characteristics, such as location, square footage,\n",
    "# number of bedrooms, etc., you are developing an SVM regression model.\n",
    "# Import necessary libraries\n"
   ]
  },
  {
   "cell_type": "code",
   "execution_count": 34,
   "metadata": {},
   "outputs": [
    {
     "name": "stdout",
     "output_type": "stream",
     "text": [
      "Mean squared error: 11441.085799649498\n",
      "R2 score: 0.33422930906948656\n"
     ]
    }
   ],
   "source": [
    "\n",
    "import pandas as pd\n",
    "from sklearn.model_selection import train_test_split\n",
    "from sklearn.svm import SVR\n",
    "from sklearn.metrics import mean_squared_error, r2_score\n",
    "\n",
    "\n",
    "df = pd.read_csv('Bengaluru_House_Data.csv')\n",
    "\n",
    "\n",
    "df = df.drop(['area_type', 'availability', 'location', 'society'], axis=1)\n",
    "\n",
    "\n",
    "df[\"size\"] = df[\"size\"].str.replace(\"BHK\", \" \")\n",
    "df[\"size\"] = df[\"size\"].str.replace(\"Bedroom\", \" \")\n",
    "df[\"size\"] = df[\"size\"].str.replace(\"RK\", \" \")\n",
    "\n",
    "\n",
    "index = df['total_sqft'].str.contains('-')\n",
    "df = df[~index]\n",
    "\n",
    "index = df['total_sqft'].str.contains('Acre')\n",
    "df = df[~index]\n",
    "\n",
    "index = df['total_sqft'].str.contains('Sq. Meter')\n",
    "df = df[~index]\n",
    "\n",
    "index = df['total_sqft'].str.contains('Sq. Yards')\n",
    "df = df[~index]\n",
    "\n",
    "index = df['total_sqft'].str.contains('Cents')\n",
    "df = df[~index]\n",
    "\n",
    "index = df['total_sqft'].str.contains('1Grounds')\n",
    "df = df[~index]\n",
    "\n",
    "index = df['total_sqft'].str.contains('Guntha')\n",
    "df = df[~index]\n",
    "\n",
    "\n",
    "\n",
    "df=df.dropna()\n",
    "\n",
    "\n",
    "X = df.drop(['price'], axis=1)\n",
    "y = df['price']\n",
    "X_train, X_test, y_train, y_test = train_test_split(X, y, test_size=0.2, random_state=0)\n",
    "\n",
    "\n",
    "model = SVR(kernel='rbf')\n",
    "model.fit(X_train, y_train)\n",
    "\n",
    "\n",
    "y_pred = model.predict(X_test)\n",
    "\n",
    "mse = mean_squared_error(y_test, y_pred)\n",
    "r2 = r2_score(y_test, y_pred)\n",
    "print(\"Mean squared error:\", mse)\n",
    "print(\"R2 score:\", r2)\n"
   ]
  },
  {
   "cell_type": "code",
   "execution_count": null,
   "metadata": {},
   "outputs": [],
   "source": [
    "\"\"\"  The best regression metric to employ would be the mean squared error .\n",
    "MSE measures the average squared difference between the predicted values and the actual values. In this case, the predicted values \n",
    "are the predicted house prices and the actual values are the true house prices. The MSE is a good choice because it penalizes \n",
    "large errors more heavily than small errors, which is appropriate for a problem where the cost of making large errors is likely \n",
    "to be much greater than the cost of making small errors.\n",
    "\n",
    "Other regression metrics that could also be useful in this situation include mean absolute error , root mean squared error \n",
    ", and R-squared  score. However, MSE is generally preferred over these other metrics for this type of problem."
   ]
  },
  {
   "cell_type": "code",
   "execution_count": null,
   "metadata": {},
   "outputs": [],
   "source": [
    "# Q2. You have built an SVM regression model and are trying to decide between using MSE or R-squared as\n",
    "# your evaluation metric. Which metric would be more appropriate if your goal is to predict the actual price\n",
    "# of a house as accurately as possible?\n",
    "\"\"\"If the goal is to predict the actual price of a house as accurately as possible, the mean squared error (MSE) would be the \n",
    "more appropriate evaluation metric to use, rather than R-squared.\n",
    "\n",
    "The reason for this is that MSE measures the average squared difference between the predicted values and the actual values.\n",
    " By minimizing MSE, the model is optimized to predict the actual price of a house as accurately as possible,\n",
    "  as it is penalizing large errors more heavily than small errors. This is important in a situation where the cost of making \n",
    "  large errors is likely to be much greater than the cost of making small errors.\n",
    "\n",
    "On the other hand, R-squared measures the proportion of variance in the dependent variable (i.e., house price) that can be\n",
    " explained by the independent variables (i.e., features). While R-squared can be a useful metric to evaluate how well the \n",
    " model fits the data, it may not necessarily be directly related to the accuracy of the house price predictions.\n",
    "\n",
    "Therefore, if the primary goal is to predict the actual price of a house as accurately as possible, MSE would be the more \n",
    "appropriate evaluation metric to use.\n",
    "\n",
    "\n",
    "\n",
    "\n"
   ]
  },
  {
   "cell_type": "code",
   "execution_count": null,
   "metadata": {},
   "outputs": [],
   "source": [
    "# Q3. You have a dataset with a significant number of outliers and are trying to select an appropriate\n",
    "# regression metric to use with your SVM model. Which metric would be the most appropriate in this\n",
    "# scenario?\n",
    "\n",
    "\n",
    "\"\"\"When dealing with a dataset that contains a significant number of outliers, the most appropriate regression metric to use \n",
    "with an SVM model would be the mean absolute error .\n",
    "\n",
    "Unlike the mean squared error , the MAE measures the average absolute difference between the predicted values and the \n",
    "actual values. This means that the MAE is less sensitive to outliers than the MSE, which squares the difference between \n",
    "predicted and actual values, causing outliers to have a larger impact on the overall error.\n",
    "\n",
    "Since outliers can significantly impact the accuracy of a model, using a metric that is less sensitive to outliers, \n",
    "like the MAE, can provide a more accurate evaluation of the model's performance.\n",
    "\n",
    "\"\"\"\n",
    "\n",
    "\n",
    "\n",
    "\n"
   ]
  },
  {
   "cell_type": "code",
   "execution_count": null,
   "metadata": {},
   "outputs": [],
   "source": [
    "# Q4. You have built an SVM regression model using a polynomial kernel and are trying to select the best\n",
    "# metric to evaluate its performance. You have calculated both MSE and RMSE and found that both values\n",
    "# are very close. Which metric should you choose to use in this case?\n",
    "\n",
    "\"\"\"If both the mean squared error  and the root mean squared error  are very close, either metric could be used to evaluate \n",
    "the performance of the SVM regression model with a polynomial kernel.\n",
    "\n",
    " if forced to choose between the two, the RMSE may be a slightly better choice since it has the same units as the dependent\n",
    "  variable  and is therefore easier to interpret. The RMSE also has the advantage of being more interpretable than the MSE \n",
    " .\"\"\""
   ]
  },
  {
   "cell_type": "code",
   "execution_count": null,
   "metadata": {},
   "outputs": [],
   "source": [
    "# Q5. You are comparing the performance of different SVM regression models using different kernels (linear,\n",
    "# polynomial, and RBF) and are trying to select the best evaluation metric. Which metric would be most\n",
    "# appropriate if your goal is to measure how well the model explains the variance in the target variable?\n",
    "\"\"\"If the goal is to measure how well the SVM regression models with different kernels , the variance in the target variable,\n",
    " the most appropriate evaluation metric would be the coefficient of determination or R-squared  score.\n",
    "\n",
    "The R-squared score is a statistical measure that represents the proportion of variance in the target variable that is explained \n",
    "by the independent variables. It ranges  from 0 to 1, with a value of 1 indicating that the model explains all the \n",
    "variance in the target variable, and a value of 0 indicating that the model does not explain any of the variance.\n",
    "\n",
    " if the goal is to compare the performance of SVM regression models using different kernels and to measure how well \n",
    "they explain the variance in the target variable, the R-squared score would be the most appropriate evaluation metric to use.\"\"\""
   ]
  }
 ],
 "metadata": {
  "kernelspec": {
   "display_name": "Python 3",
   "language": "python",
   "name": "python3"
  },
  "language_info": {
   "codemirror_mode": {
    "name": "ipython",
    "version": 3
   },
   "file_extension": ".py",
   "mimetype": "text/x-python",
   "name": "python",
   "nbconvert_exporter": "python",
   "pygments_lexer": "ipython3",
   "version": "3.11.2"
  },
  "orig_nbformat": 4
 },
 "nbformat": 4,
 "nbformat_minor": 2
}
